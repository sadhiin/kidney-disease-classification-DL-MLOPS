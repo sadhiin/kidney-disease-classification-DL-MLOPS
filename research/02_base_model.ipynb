{
 "cells": [
  {
   "cell_type": "code",
   "execution_count": null,
   "outputs": [],
   "source": [
    "import os"
   ],
   "metadata": {
    "collapsed": false
   },
   "id": "f32fd4444d3e9ce6"
  },
  {
   "cell_type": "code",
   "execution_count": null,
   "id": "initial_id",
   "metadata": {
    "collapsed": true
   },
   "outputs": [],
   "source": [
    "pwd"
   ]
  },
  {
   "cell_type": "code",
   "execution_count": null,
   "outputs": [],
   "source": [
    "os.chdir(\"../\")"
   ],
   "metadata": {
    "collapsed": false
   },
   "id": "6523ef524cbab444"
  },
  {
   "cell_type": "code",
   "execution_count": 5,
   "outputs": [
    {
     "data": {
      "text/plain": "'E:\\\\Projects\\\\MLOPS\\\\kidney-disease-classification-mlops'"
     },
     "execution_count": 5,
     "metadata": {},
     "output_type": "execute_result"
    }
   ],
   "source": [
    "pwd"
   ],
   "metadata": {
    "collapsed": false,
    "ExecuteTime": {
     "end_time": "2023-12-10T14:20:15.222333200Z",
     "start_time": "2023-12-10T14:20:15.203296900Z"
    }
   },
   "id": "bceced2a28acb0e3"
  },
  {
   "cell_type": "code",
   "execution_count": 6,
   "outputs": [],
   "source": [
    "from dataclasses import dataclass\n",
    "from pathlib import Path\n",
    "\n",
    "@dataclass(frozen=True)\n",
    "class PrepareBaseModelConfig:\n",
    "    root_dir: Path\n",
    "    base_model_path: Path\n",
    "    updated_base_model_path: Path\n",
    "    params_image_size: list\n",
    "    params_learning_rate: float\n",
    "    params_dropout_rate: float\n",
    "    params_include_top: bool\n",
    "    params_weights: str\n",
    "    params_classes: int"
   ],
   "metadata": {
    "collapsed": false,
    "ExecuteTime": {
     "end_time": "2023-12-10T14:20:19.874938Z",
     "start_time": "2023-12-10T14:20:19.871217700Z"
    }
   },
   "id": "4d341348e0499fe1"
  },
  {
   "cell_type": "code",
   "execution_count": 7,
   "outputs": [],
   "source": [
    "from kidneyDiseaseClassifier import logger\n",
    "from kidneyDiseaseClassifier.constants import *\n",
    "from kidneyDiseaseClassifier.utils.common import read_yaml,create_directories"
   ],
   "metadata": {
    "collapsed": false,
    "ExecuteTime": {
     "end_time": "2023-12-10T14:20:22.427883400Z",
     "start_time": "2023-12-10T14:20:20.895292300Z"
    }
   },
   "id": "a569eeef33c8d57c"
  },
  {
   "cell_type": "code",
   "execution_count": 8,
   "outputs": [],
   "source": [
    "class ConfigurationManager:\n",
    "    def __init__(self, model_name= \"VGG16\",  config_filepath= CONFIG_FILE_PATH, params_file_path=PARAMS_FILE_PATH):\n",
    "        self.model_name = model_name.upper()\n",
    "        self.config = read_yaml(config_filepath)\n",
    "        self.params = read_yaml(params_file_path)[self.model_name]       # loading params for the specific model\n",
    "        create_directories([self.config.artifacts_root])\n",
    "        logger.info(f\"Preparing Config-manager for {self.model_name} model.\")\n",
    "        \n",
    "    def get_prepare_base_model_config(self) ->PrepareBaseModelConfig:\n",
    "        base_model_config = self.config.prepare_base_model\n",
    "        # param = self.params[self.model]  # loading params for the specific model\n",
    "        \n",
    "        print(\"Config ---> \", base_model_config)\n",
    "        print(\"Params --> \",self.params)\n",
    "        \n",
    "        create_directories([base_model_config.root_dir])\n",
    "        prepared_base_model_config = PrepareBaseModelConfig(\n",
    "            root_dir= Path(base_model_config.root_dir),\n",
    "            base_model_path= Path(base_model_config.base_model_path),\n",
    "            updated_base_model_path= Path(base_model_config.updated_base_model_path),\n",
    "            params_image_size= self.params.IMAGE_SIZE,\n",
    "            params_learning_rate= self.params.LEARNING_RATE,\n",
    "            params_dropout_rate= self.params.DROPOUT_RATE,\n",
    "            params_weights= self.params.WEIGHTS,\n",
    "            params_include_top= self.params.INCLUDE_TOP,\n",
    "            params_classes= self.params.CLASSES\n",
    "        )   \n",
    "        \n",
    "        return prepared_base_model_config"
   ],
   "metadata": {
    "collapsed": false,
    "ExecuteTime": {
     "end_time": "2023-12-10T14:20:22.481402500Z",
     "start_time": "2023-12-10T14:20:22.439881500Z"
    }
   },
   "id": "c8943500e69990c8"
  },
  {
   "cell_type": "code",
   "execution_count": 9,
   "outputs": [],
   "source": [
    "import os\n",
    "import  urllib.request as request\n",
    "from zipfile import  ZipFile\n",
    "import tensorflow as tf"
   ],
   "metadata": {
    "collapsed": false,
    "ExecuteTime": {
     "end_time": "2023-12-10T14:20:38.413978900Z",
     "start_time": "2023-12-10T14:20:27.903106100Z"
    }
   },
   "id": "9f94276f3ffa3961"
  },
  {
   "cell_type": "code",
   "execution_count": 12,
   "outputs": [],
   "source": [
    "class PrepareBaseModel:\n",
    "    def __init__(self, config: PrepareBaseModelConfig):\n",
    "        self.model = None\n",
    "        self.config = config\n",
    "        \n",
    "    def get_base_model(self):\n",
    "        self.model = tf.keras.applications.vgg16.VGG16(\n",
    "            input_shape=self.config.params_image_size,\n",
    "            weights= self.config.params_weights,\n",
    "            include_top= self.config.params_include_top\n",
    "        )\n",
    "        \n",
    "        self.save_model(path=self.config.base_model_path,model= self.model)\n",
    "    \n",
    "    @staticmethod\n",
    "    def save_model(path: Path, model: tf.keras.Model):\n",
    "        model.save(path)\n",
    "        \n",
    "    @staticmethod\n",
    "    def _prepare_full_model(model, classes, freeze_all, freeze_till, learning_rate, dropout_rate):    \n",
    "        # Freeze the pretrained weights\n",
    "        if freeze_all:\n",
    "            for layer in model.layers:\n",
    "                layer.trainable= False\n",
    "                \n",
    "            no_of_layers = len(model.layers)\n",
    "            no_of_layers_to_train = int(no_of_layers/2)\n",
    "    \n",
    "            # Skipping the BN layers\n",
    "            for layer in model.layers[-no_of_layers_to_train:]:\n",
    "                if not isinstance(layer, tf.keras.layers.BatchNormalization):\n",
    "                    layer.trainable = True\n",
    "        \n",
    "        elif (freeze_till is not None) and (freeze_till >0):\n",
    "            for layer in model[:freeze_till]:\n",
    "                if not isinstance(layer, tf.keras.layers.BatchNormalization):\n",
    "                    layer.trainable = True\n",
    "                else:\n",
    "                    layer.trainable = False\n",
    "        \n",
    "        # Rebuild top\n",
    "        x = tf.keras.layers.GlobalAveragePooling2D(name=\"avg_pool\")(model.output)\n",
    "        x = tf.keras.layers.BatchNormalization()(x)\n",
    "        x = tf.keras.layers.Dropout(dropout_rate, name=\"top_dropout\")(x)\n",
    "\n",
    "        prediction = tf.keras.layers.Dense(\n",
    "            units= classes,\n",
    "            activation='softmax',\n",
    "            name=\"pred\"\n",
    "        )(x)\n",
    "        \n",
    "        full_model = tf.keras.models.Model(\n",
    "            inputs= model.input,\n",
    "            outputs = prediction\n",
    "        )\n",
    "        \n",
    "        full_model.compile(\n",
    "            optimizer= tf.keras.optimizers.SGD(learning_rate= learning_rate, momentum=0.9),\n",
    "            loss=tf.keras.losses.CategoricalCrossentropy(),\n",
    "            metrics=['accuracy']\n",
    "        )\n",
    "        \n",
    "        full_model.summary()\n",
    "        logger.info(f\"Loaded the base model.\")\n",
    "        return  full_model\n",
    "    \n",
    "    \n",
    "    def update_base_model(self):\n",
    "        self.full_model = self._prepare_full_model(\n",
    "            model = self.model,\n",
    "            classes= self.config.params_classes,\n",
    "            freeze_all= True,\n",
    "            freeze_till= None,\n",
    "            learning_rate= self.config.params_learning_rate,\n",
    "            dropout_rate= self.config.params_dropout_rate\n",
    "        )\n",
    "        \n",
    "        self.save_model(path=self.config.updated_base_model_path, model=self.full_model)\n",
    "        \n",
    "        logger.info(f\"Final model is saving at {self.config.updated_base_model_path}\")"
   ],
   "metadata": {
    "collapsed": false,
    "ExecuteTime": {
     "end_time": "2023-12-10T14:24:03.051708800Z",
     "start_time": "2023-12-10T14:24:03.030750400Z"
    }
   },
   "id": "c7b672d51169c497"
  },
  {
   "cell_type": "code",
   "execution_count": 13,
   "outputs": [
    {
     "name": "stdout",
     "output_type": "stream",
     "text": [
      "[2023-12-10 20:24:03,877]: INFO: common: yaml file: config\\config.yaml loaded successfully!\n",
      "[2023-12-10 20:24:03,881]: INFO: common: yaml file: params.yaml loaded successfully!\n",
      "[2023-12-10 20:24:03,882]: INFO: common: Created directory at : artifacts\n",
      "[2023-12-10 20:24:03,884]: INFO: 1631773706: Preparing Config-manager for VGG16 model.\n",
      "Config --->  {'root_dir': 'artifacts/base_model', 'base_model_path': 'artifacts/base_model/base_model.h5', 'updated_base_model_path': 'artifacts/base_model/base_model_updated.h5'}\n",
      "Params -->  {'AUGMENTATION': True, 'IMAGE_SIZE': [224, 224, 3], 'BATCH_SIZE': 16, 'INCLUDE_TOP': False, 'EPOCHS': 15, 'CLASSES': 4, 'WEIGHTS': 'imagenet', 'LEARNING_RATE': 0.01, 'DROPOUT_RATE': 0.3}\n",
      "[2023-12-10 20:24:03,887]: INFO: common: Created directory at : artifacts/base_model\n",
      "[2023-12-10 20:24:04,392]: WARNING: saving_utils: Compiled the loaded model, but the compiled metrics have yet to be built. `model.compile_metrics` will be empty until you train or evaluate the model.\n",
      "Model: \"model_1\"\n",
      "_________________________________________________________________\n",
      " Layer (type)                Output Shape              Param #   \n",
      "=================================================================\n",
      " input_2 (InputLayer)        [(None, 224, 224, 3)]     0         \n",
      "                                                                 \n",
      " block1_conv1 (Conv2D)       (None, 224, 224, 64)      1792      \n",
      "                                                                 \n",
      " block1_conv2 (Conv2D)       (None, 224, 224, 64)      36928     \n",
      "                                                                 \n",
      " block1_pool (MaxPooling2D)  (None, 112, 112, 64)      0         \n",
      "                                                                 \n",
      " block2_conv1 (Conv2D)       (None, 112, 112, 128)     73856     \n",
      "                                                                 \n",
      " block2_conv2 (Conv2D)       (None, 112, 112, 128)     147584    \n",
      "                                                                 \n",
      " block2_pool (MaxPooling2D)  (None, 56, 56, 128)       0         \n",
      "                                                                 \n",
      " block3_conv1 (Conv2D)       (None, 56, 56, 256)       295168    \n",
      "                                                                 \n",
      " block3_conv2 (Conv2D)       (None, 56, 56, 256)       590080    \n",
      "                                                                 \n",
      " block3_conv3 (Conv2D)       (None, 56, 56, 256)       590080    \n",
      "                                                                 \n",
      " block3_pool (MaxPooling2D)  (None, 28, 28, 256)       0         \n",
      "                                                                 \n",
      " block4_conv1 (Conv2D)       (None, 28, 28, 512)       1180160   \n",
      "                                                                 \n",
      " block4_conv2 (Conv2D)       (None, 28, 28, 512)       2359808   \n",
      "                                                                 \n",
      " block4_conv3 (Conv2D)       (None, 28, 28, 512)       2359808   \n",
      "                                                                 \n",
      " block4_pool (MaxPooling2D)  (None, 14, 14, 512)       0         \n",
      "                                                                 \n",
      " block5_conv1 (Conv2D)       (None, 14, 14, 512)       2359808   \n",
      "                                                                 \n",
      " block5_conv2 (Conv2D)       (None, 14, 14, 512)       2359808   \n",
      "                                                                 \n",
      " block5_conv3 (Conv2D)       (None, 14, 14, 512)       2359808   \n",
      "                                                                 \n",
      " block5_pool (MaxPooling2D)  (None, 7, 7, 512)         0         \n",
      "                                                                 \n",
      " avg_pool (GlobalAveragePoo  (None, 512)               0         \n",
      " ling2D)                                                         \n",
      "                                                                 \n",
      " batch_normalization_1 (Bat  (None, 512)               2048      \n",
      " chNormalization)                                                \n",
      "                                                                 \n",
      " top_dropout (Dropout)       (None, 512)               0         \n",
      "                                                                 \n",
      " pred (Dense)                (None, 4)                 2052      \n",
      "                                                                 \n",
      "=================================================================\n",
      "Total params: 14718788 (56.15 MB)\n",
      "Trainable params: 12982276 (49.52 MB)\n",
      "Non-trainable params: 1736512 (6.62 MB)\n",
      "_________________________________________________________________\n"
     ]
    }
   ],
   "source": [
    "try:\n",
    "    config = ConfigurationManager(model_name='VGG16')\n",
    "    prepare_base_model_config = config.get_prepare_base_model_config()\n",
    "    \n",
    "    prepare_base_model = PrepareBaseModel(config= prepare_base_model_config)\n",
    "    prepare_base_model.get_base_model()\n",
    "    prepare_base_model.update_base_model()\n",
    "except Exception as e:\n",
    "    raise e"
   ],
   "metadata": {
    "collapsed": false,
    "ExecuteTime": {
     "end_time": "2023-12-10T14:24:05.026627700Z",
     "start_time": "2023-12-10T14:24:03.948028Z"
    }
   },
   "id": "16fc90398fc608a4"
  },
  {
   "cell_type": "code",
   "execution_count": null,
   "outputs": [],
   "source": [],
   "metadata": {
    "collapsed": false
   },
   "id": "452258c1b52c99f3"
  }
 ],
 "metadata": {
  "kernelspec": {
   "display_name": "Python 3",
   "language": "python",
   "name": "python3"
  },
  "language_info": {
   "codemirror_mode": {
    "name": "ipython",
    "version": 2
   },
   "file_extension": ".py",
   "mimetype": "text/x-python",
   "name": "python",
   "nbconvert_exporter": "python",
   "pygments_lexer": "ipython2",
   "version": "2.7.6"
  }
 },
 "nbformat": 4,
 "nbformat_minor": 5
}
