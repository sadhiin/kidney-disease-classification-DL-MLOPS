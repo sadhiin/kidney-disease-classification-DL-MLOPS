{
 "cells": [
  {
   "cell_type": "code",
   "execution_count": 1,
   "id": "initial_id",
   "metadata": {
    "collapsed": true,
    "ExecuteTime": {
     "end_time": "2023-12-09T15:48:19.674443Z",
     "start_time": "2023-12-09T15:48:19.656209400Z"
    }
   },
   "outputs": [
    {
     "data": {
      "text/plain": "'E:\\\\Projects\\\\MLOPS\\\\kidney-disease-classification-mlops\\\\research'"
     },
     "execution_count": 1,
     "metadata": {},
     "output_type": "execute_result"
    }
   ],
   "source": [
    "pwd"
   ]
  },
  {
   "cell_type": "markdown",
   "source": [
    "# All this operations will be executed on root of the project directory"
   ],
   "metadata": {
    "collapsed": false
   },
   "id": "2639579697a65369"
  },
  {
   "cell_type": "code",
   "execution_count": 2,
   "outputs": [],
   "source": [
    "import os"
   ],
   "metadata": {
    "collapsed": false,
    "ExecuteTime": {
     "end_time": "2023-12-09T15:48:27.264696100Z",
     "start_time": "2023-12-09T15:48:27.247681300Z"
    }
   },
   "id": "b3aaa5a18a4a4865"
  },
  {
   "cell_type": "code",
   "execution_count": 3,
   "outputs": [],
   "source": [
    "from dataclasses import dataclass\n",
    "from pathlib import Path\n",
    "\n",
    "@dataclass(frozen=True)\n",
    "class DataIngestionConfig:\n",
    "    root_dir : Path\n",
    "    source_URL: str\n",
    "    local_data_file: Path\n",
    "    extracted_dir: Path"
   ],
   "metadata": {
    "collapsed": false,
    "ExecuteTime": {
     "end_time": "2023-12-09T15:48:27.620902600Z",
     "start_time": "2023-12-09T15:48:27.613904100Z"
    }
   },
   "id": "b445b26848062556"
  },
  {
   "cell_type": "code",
   "execution_count": 4,
   "outputs": [],
   "source": [
    "from kidneyDiseaseClassifier.constants import *\n",
    "from kidneyDiseaseClassifier.utils.common import read_yaml, create_directories\n"
   ],
   "metadata": {
    "collapsed": false,
    "ExecuteTime": {
     "end_time": "2023-12-09T15:48:30.538924200Z",
     "start_time": "2023-12-09T15:48:28.089096900Z"
    }
   },
   "id": "8f9661777c6a01bc"
  },
  {
   "cell_type": "code",
   "execution_count": 5,
   "outputs": [],
   "source": [
    "class ConfigurationManager:\n",
    "    def __init__(self,config_filepath= CONFIG_FILE_PATH, params_filepath=PARAMS_FILE_PATH):\n",
    "        self.config = read_yaml(config_filepath)\n",
    "        self.prams = read_yaml(params_filepath)\n",
    "        create_directories([self.config.artifacts_root])\n",
    "        \n",
    "    def get_data_ingestion_gdrive_config(self)->DataIngestionConfig:\n",
    "        config = self.config.data_ingestion_gdrive\n",
    "\n",
    "        create_directories([config.root_dir])\n",
    "        \n",
    "        data_ingestion_cfg = DataIngestionConfig(\n",
    "            root_dir=config.root_dir,\n",
    "            source_URL=config.source_URL,\n",
    "            local_data_file=config.local_data_file,\n",
    "            extracted_dir= config.extracted_dir\n",
    "        )\n",
    "        \n",
    "        return data_ingestion_cfg\n",
    "    \n",
    "    def get_data_ingestion_kaggle_config(self)->DataIngestionConfig:\n",
    "        config = self.config.data_ingestion_kaggle\n",
    "\n",
    "        create_directories([config.root_dir])\n",
    "        \n",
    "        data_ingestion_cfg = DataIngestionConfig(\n",
    "            root_dir=config.root_dir,\n",
    "            source_URL=config.source_URL,\n",
    "            local_data_file=config.local_data_file,\n",
    "            extracted_dir= config.extracted_dir\n",
    "        )\n",
    "        \n",
    "        return data_ingestion_cfg"
   ],
   "metadata": {
    "collapsed": false,
    "ExecuteTime": {
     "end_time": "2023-12-09T15:48:30.551922700Z",
     "start_time": "2023-12-09T15:48:30.545922600Z"
    }
   },
   "id": "79a46ba7f0c7a313"
  },
  {
   "cell_type": "code",
   "execution_count": 16,
   "outputs": [],
   "source": [
    "import os\n",
    "import zipfile\n",
    "import tarfile\n",
    "import shutil\n",
    "import gdown\n",
    "import subprocess\n",
    "import opendatasets as od\n",
    "from kidneyDiseaseClassifier import logger\n",
    "from kidneyDiseaseClassifier.utils.common import get_size"
   ],
   "metadata": {
    "collapsed": false,
    "ExecuteTime": {
     "end_time": "2023-12-09T17:33:22.256907600Z",
     "start_time": "2023-12-09T17:33:22.198995400Z"
    }
   },
   "id": "98e25f7c4a5e508"
  },
  {
   "cell_type": "code",
   "execution_count": 17,
   "outputs": [],
   "source": [
    "class DataIngestionGoogle:\n",
    "    def __init__(self, config: DataIngestionConfig):\n",
    "        self.config =config\n",
    "        \n",
    "    def download_gdrive_data(self):\n",
    "        \"\"\"\n",
    "        Fetch the data from Gdrive\n",
    "        :return: \n",
    "        \"\"\"\n",
    "        \n",
    "        try:\n",
    "            dataset_url = self.config.source_URL\n",
    "            zip_download_dir = self.config.local_data_file\n",
    "            os.makedirs(\"artifacts/data_ingestion/gdrive\", exist_ok=True)\n",
    "            logger.info(f\"Downloading data from the {dataset_url} into {zip_download_dir} location\")\n",
    "            file_id = dataset_url.split('/')[-2]\n",
    "            prefix = \"https://drive.google.com/uc?/export=download&id=\"\n",
    "            # gdown.download(prefix+file_id,zip_download_dir)\n",
    "            gdown.download(prefix+file_id, zip_download_dir, resume=True)\n",
    "            logger.info(f\"Data has been downloaded at {zip_download_dir}\")\n",
    "        except Exception as e:\n",
    "            logger.error(e)\n",
    "            raise e\n",
    "            \n",
    "    def extractor(self):\n",
    "        \"\"\"\n",
    "        zip_file_path: str path\n",
    "        Extract zip file\n",
    "        :return: None\n",
    "        \"\"\"\n",
    "        unzip_path = self.config.extracted_dir\n",
    "        os.makedirs(unzip_path, exist_ok=True)\n",
    "        with zipfile.ZipFile(self.config.local_data_file, 'r') as zip_ref:\n",
    "            zip_ref.extractall(unzip_path)\n",
    "        logger.info(f\"Successfully extract the file at {unzip_path}\")\n",
    "            \n",
    "            "
   ],
   "metadata": {
    "collapsed": false,
    "ExecuteTime": {
     "end_time": "2023-12-09T17:33:25.450156300Z",
     "start_time": "2023-12-09T17:33:25.430047200Z"
    }
   },
   "id": "ee67545dc0a8f233"
  },
  {
   "cell_type": "code",
   "execution_count": 19,
   "outputs": [],
   "source": [
    "class DataIngestionKaggle:\n",
    "    def __init__(self, config: DataIngestionConfig):\n",
    "        self.config = config\n",
    "        \n",
    "    def download_kaggle_data(self):\n",
    "        \"\"\"\n",
    "        Download data publicly available from kaggle\n",
    "        :return: \n",
    "        \"\"\"\n",
    "        try:\n",
    "            dataset_url = self.config.source_URL\n",
    "            zip_download_dir = self.config.local_data_file\n",
    "            os.makedirs(\"artifacts/data_ingestion/kaggle\", exist_ok=True)\n",
    "            logger.info(f\"Downloading data from the {dataset_url} into {zip_download_dir} location\")\n",
    "            \n",
    "            kaggle_api = read_yaml(KAGGLE_SECRET_FILE_PATH)\n",
    "            \n",
    "            os.environ[\"KAGGLE_USERNAME\"] = kaggle_api.kaggle_username\n",
    "            os.environ[\"KAGGLE_KEY\"] = kaggle_api.kaggle_api_key\n",
    "            \n",
    "            command = f\"kaggle datasets download {dataset_url.split('/datasets/')[-1]} -p {zip_download_dir} --unzip\"\n",
    "            \n",
    "            subprocess.run(command.split())\n",
    "            \n",
    "        except Exception as e:\n",
    "            raise e\n",
    "    \n",
    "    def get_newly_downloaded_file(self, directory:str):\n",
    "        # Ensure the directory exists\n",
    "        if not os.path.exists(directory) or not os.path.isdir(directory):\n",
    "            return None\n",
    "    \n",
    "        # List all files in the directory\n",
    "        files = os.listdir(directory)\n",
    "    \n",
    "        # Filter out directories (if any)\n",
    "        files = [file for file in files if os.path.isfile(os.path.join(directory, file))]\n",
    "    \n",
    "        # Sort files by modification time in descending order\n",
    "        files.sort(key=lambda x: os.path.getmtime(os.path.join(directory, x)), reverse=True)\n",
    "    \n",
    "        # Check if there are any files in the directory\n",
    "        if not files:\n",
    "            return None\n",
    "    \n",
    "        # Return the path to the latest file\n",
    "        latest_file = os.path.join(directory, files[0])\n",
    "        return latest_file\n",
    "            \n",
    "    def extractor(self):\n",
    "        \"\"\"\n",
    "        zip_file_path: str path\n",
    "        Extract zip file\n",
    "        :return: None\n",
    "        \"\"\"\n",
    "        try:\n",
    "            \n",
    "            unzip_path = self.config.extracted_dir\n",
    "            compressed_file = self.get_newly_downloaded_file(self.config.local_data_file)\n",
    "            os.makedirs(unzip_path, exist_ok=True)\n",
    "            if not os.path.exists(compressed_file):\n",
    "                raise FileExistsError(f\"{compressed_file} doesn't exists. Make sure file exists\")\n",
    "            \n",
    "            logger.info(f\"{compressed_file} file extraction is started!\")\n",
    "            \n",
    "            file_extension = os.path.splitext(compressed_file)[1].lower()\n",
    "            # Handle zip files\n",
    "            if file_extension == \".zip\":\n",
    "                with zipfile.ZipFile(compressed_file, 'r') as zip_ref:\n",
    "                    zip_ref.extractall(unzip_path)\n",
    "                logger.info(f\"Successfully extract the file at {compressed_file}\")\n",
    "                # Delete the compressed file after extraction\n",
    "                os.remove(compressed_file)\n",
    "                \n",
    "            elif file_extension in (\".tar\", \".gz\", \".bz2\"):\n",
    "                with tarfile.open(compressed_file, \"r\") as tar_ref:\n",
    "                    tar_ref.extractall(os.path.dirname(compressed_file))\n",
    "                logger.info(f\"Successfully extract the file at {compressed_file}\")\n",
    "            \n",
    "                # Delete the compressed file after extraction\n",
    "                os.remove(compressed_file)   \n",
    "        except Exception as e:\n",
    "            raise e\n",
    "            "
   ],
   "metadata": {
    "collapsed": false,
    "ExecuteTime": {
     "end_time": "2023-12-09T17:33:33.620663700Z",
     "start_time": "2023-12-09T17:33:33.600253Z"
    }
   },
   "id": "13ebd92219f2467e"
  },
  {
   "cell_type": "code",
   "execution_count": 20,
   "outputs": [
    {
     "data": {
      "text/plain": "'E:\\\\Projects\\\\MLOPS\\\\kidney-disease-classification-mlops'"
     },
     "execution_count": 20,
     "metadata": {},
     "output_type": "execute_result"
    }
   ],
   "source": [
    "pwd"
   ],
   "metadata": {
    "collapsed": false,
    "ExecuteTime": {
     "end_time": "2023-12-09T17:33:36.463537Z",
     "start_time": "2023-12-09T17:33:36.446535200Z"
    }
   },
   "id": "69dceac5ff4d48fb"
  },
  {
   "cell_type": "code",
   "execution_count": 12,
   "outputs": [
    {
     "ename": "NameError",
     "evalue": "name 'pwd' is not defined",
     "output_type": "error",
     "traceback": [
      "\u001B[1;31m---------------------------------------------------------------------------\u001B[0m",
      "\u001B[1;31mNameError\u001B[0m                                 Traceback (most recent call last)",
      "Cell \u001B[1;32mIn[12], line 2\u001B[0m\n\u001B[0;32m      1\u001B[0m \u001B[38;5;66;03m# os.chdir(\"..\")\u001B[39;00m\n\u001B[1;32m----> 2\u001B[0m \u001B[43mpwd\u001B[49m\n",
      "\u001B[1;31mNameError\u001B[0m: name 'pwd' is not defined"
     ]
    }
   ],
   "source": [
    "# os.chdir(\"..\")"
   ],
   "metadata": {
    "collapsed": false,
    "ExecuteTime": {
     "end_time": "2023-12-09T15:49:11.239168100Z",
     "start_time": "2023-12-09T15:49:11.175101800Z"
    }
   },
   "id": "4e7df09e8e4c5b7a"
  },
  {
   "cell_type": "code",
   "execution_count": 14,
   "outputs": [
    {
     "name": "stdout",
     "output_type": "stream",
     "text": [
      "[2023-12-09 21:49:32,754]: INFO: common: yaml file: config\\config.yaml loaded successfully!\n",
      "[2023-12-09 21:49:32,755]: INFO: common: yaml file: params.yaml loaded successfully!\n",
      "[2023-12-09 21:49:32,757]: INFO: common: Created directory at : artifacts\n",
      "[2023-12-09 21:49:32,757]: INFO: common: Created directory at : artifacts/data_ingestion/gdrive\n",
      "[2023-12-09 21:49:32,759]: INFO: 1950354356: Downloading data from the https://drive.google.com/file/d/1vlhZ5c7abUKF8xXERIw6m9Te8fW7ohw3/view?usp=sharing into artifacts/data_ingestion/gdrive/data.zip location\n"
     ]
    },
    {
     "name": "stderr",
     "output_type": "stream",
     "text": [
      "Downloading...\n",
      "Resume: artifacts/data_ingestion/gdrive\\data.zip\n",
      "From (uriginal): https://drive.google.com/uc?/export=download&id=1vlhZ5c7abUKF8xXERIw6m9Te8fW7ohw3\n",
      "From (redirected): https://drive.google.com/uc?/export=download&id=1vlhZ5c7abUKF8xXERIw6m9Te8fW7ohw3&confirm=t&uuid=0262a44f-9f98-484a-99fd-6b842d6257c7\n",
      "To: E:\\Projects\\MLOPS\\kidney-disease-classification-mlops\\artifacts\\data_ingestion\\gdrive\\data.zip\n",
      "0.00B [00:00, ?B/s]"
     ]
    },
    {
     "name": "stdout",
     "output_type": "stream",
     "text": [
      "[2023-12-09 21:49:36,785]: INFO: 1950354356: Data has been downloaded at artifacts/data_ingestion/gdrive/data.zip\n"
     ]
    },
    {
     "name": "stderr",
     "output_type": "stream",
     "text": [
      "\n"
     ]
    },
    {
     "name": "stdout",
     "output_type": "stream",
     "text": [
      "[2023-12-09 21:49:37,201]: INFO: 1950354356: Successfully extract the file at artifacts/data_ingestion/gdrive/extraction\n"
     ]
    }
   ],
   "source": [
    "try:\n",
    "    config = ConfigurationManager()\n",
    "    data_ingestion_config = config.get_data_ingestion_gdrive_config()\n",
    "    data_ingestion = DataIngestionGoogle(config=data_ingestion_config)\n",
    "    data_ingestion.download_gdrive_data()\n",
    "    data_ingestion.extractor()\n",
    "except Exception as e:\n",
    "    raise e"
   ],
   "metadata": {
    "collapsed": false,
    "ExecuteTime": {
     "end_time": "2023-12-09T15:49:37.216312400Z",
     "start_time": "2023-12-09T15:49:32.753700400Z"
    }
   },
   "id": "2d6d858e81ed3d8d"
  },
  {
   "cell_type": "code",
   "execution_count": 21,
   "outputs": [
    {
     "name": "stdout",
     "output_type": "stream",
     "text": [
      "[2023-12-09 23:34:07,020]: INFO: common: yaml file: config\\config.yaml loaded successfully!\n",
      "[2023-12-09 23:34:07,025]: INFO: common: yaml file: params.yaml loaded successfully!\n",
      "[2023-12-09 23:34:07,028]: INFO: common: Created directory at : artifacts\n",
      "[2023-12-09 23:34:07,029]: INFO: common: Created directory at : artifacts/data_ingestion/kaggle\n",
      "[2023-12-09 23:34:07,030]: INFO: 1076420398: Downloading data from the https://www.kaggle.com/datasets/nazmul0087/ct-kidney-dataset-normal-cyst-tumor-and-stone/ into artifacts/data_ingestion/kaggle/data location\n",
      "[2023-12-09 23:34:07,118]: INFO: common: yaml file: config\\secrets.yaml loaded successfully!\n"
     ]
    }
   ],
   "source": [
    "try:\n",
    "    config = ConfigurationManager()\n",
    "    data_ingestion_config = config.get_data_ingestion_kaggle_config()\n",
    "    data_ingestion = DataIngestionKaggle(config=data_ingestion_config)\n",
    "    data_ingestion.download_kaggle_data()\n",
    "    data_ingestion.extractor()\n",
    "except Exception as e:\n",
    "    raise e"
   ],
   "metadata": {
    "collapsed": false,
    "ExecuteTime": {
     "end_time": "2023-12-09T17:41:16.615687200Z",
     "start_time": "2023-12-09T17:34:07.011152400Z"
    }
   },
   "id": "1ffbb3e13a129e79"
  },
  {
   "cell_type": "code",
   "execution_count": null,
   "outputs": [],
   "source": [],
   "metadata": {
    "collapsed": false
   },
   "id": "f1b9948594d2fec4"
  },
  {
   "cell_type": "code",
   "execution_count": null,
   "outputs": [],
   "source": [],
   "metadata": {
    "collapsed": false
   },
   "id": "7cb95e0d833bc900"
  }
 ],
 "metadata": {
  "kernelspec": {
   "display_name": "Python 3",
   "language": "python",
   "name": "python3"
  },
  "language_info": {
   "codemirror_mode": {
    "name": "ipython",
    "version": 2
   },
   "file_extension": ".py",
   "mimetype": "text/x-python",
   "name": "python",
   "nbconvert_exporter": "python",
   "pygments_lexer": "ipython2",
   "version": "2.7.6"
  }
 },
 "nbformat": 4,
 "nbformat_minor": 5
}
