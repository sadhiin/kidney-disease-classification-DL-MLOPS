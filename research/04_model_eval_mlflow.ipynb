{
 "cells": [
  {
   "cell_type": "code",
   "execution_count": 1,
   "id": "initial_id",
   "metadata": {
    "ExecuteTime": {
     "end_time": "2023-12-12T14:34:13.333902500Z",
     "start_time": "2023-12-12T14:34:13.309657Z"
    },
    "collapsed": true
   },
   "outputs": [
    {
     "data": {
      "text/plain": [
       "'E:\\\\Projects\\\\MLOPS\\\\kidney-disease-classification-mlops\\\\research'"
      ]
     },
     "execution_count": 1,
     "metadata": {},
     "output_type": "execute_result"
    }
   ],
   "source": [
    "pwd"
   ]
  },
  {
   "cell_type": "code",
   "execution_count": 2,
   "id": "db9467af0f2f093d",
   "metadata": {
    "ExecuteTime": {
     "end_time": "2023-12-12T14:34:27.329578300Z",
     "start_time": "2023-12-12T14:34:27.311561Z"
    },
    "collapsed": false
   },
   "outputs": [],
   "source": [
    "import os"
   ]
  },
  {
   "cell_type": "code",
   "execution_count": 3,
   "id": "54435377150e0d28",
   "metadata": {
    "ExecuteTime": {
     "end_time": "2023-12-12T14:34:27.678242100Z",
     "start_time": "2023-12-12T14:34:27.659351Z"
    },
    "collapsed": false
   },
   "outputs": [],
   "source": [
    "os.chdir(\"../\")"
   ]
  },
  {
   "cell_type": "code",
   "execution_count": 4,
   "id": "fbd05ebdb5518b1d",
   "metadata": {
    "ExecuteTime": {
     "end_time": "2023-12-12T14:34:28.348677200Z",
     "start_time": "2023-12-12T14:34:28.332685400Z"
    },
    "collapsed": false
   },
   "outputs": [
    {
     "data": {
      "text/plain": [
       "'E:\\\\Projects\\\\MLOPS\\\\kidney-disease-classification-mlops'"
      ]
     },
     "execution_count": 4,
     "metadata": {},
     "output_type": "execute_result"
    }
   ],
   "source": [
    "pwd"
   ]
  },
  {
   "cell_type": "code",
   "execution_count": 5,
   "id": "7b8d8cd6b91bb470",
   "metadata": {
    "ExecuteTime": {
     "end_time": "2023-12-12T14:34:29.508966500Z",
     "start_time": "2023-12-12T14:34:29.483701600Z"
    },
    "collapsed": false
   },
   "outputs": [],
   "source": [
    "os.environ[\"MLFLOW_TRACKING_URI\"] = \"\"\n",
    "os.environ[\"MLFLOW_TRACKING_USERNAME\"] = \"sadhiin\"\n",
    "os.environ[\"MLFLOW_TRACKING_PASSWORD\"] = \"\""
   ]
  },
  {
   "cell_type": "code",
   "execution_count": 7,
   "id": "191b2a074e6cce74",
   "metadata": {
    "ExecuteTime": {
     "end_time": "2023-12-12T14:34:58.534100800Z",
     "start_time": "2023-12-12T14:34:29.995775Z"
    },
    "collapsed": false
   },
   "outputs": [
    {
     "name": "stdout",
     "output_type": "stream",
     "text": [
      "WARNING:tensorflow:From E:\\Projects\\MLOPS\\kidney-disease-classification-mlops\\venv\\lib\\site-packages\\keras\\src\\losses.py:2976: The name tf.losses.sparse_softmax_cross_entropy is deprecated. Please use tf.compat.v1.losses.sparse_softmax_cross_entropy instead.\n"
     ]
    }
   ],
   "source": [
    "import tensorflow as tf"
   ]
  },
  {
   "cell_type": "code",
   "execution_count": 8,
   "id": "a1c1bf2cc6774792",
   "metadata": {
    "ExecuteTime": {
     "end_time": "2023-12-12T14:35:04.626296700Z",
     "start_time": "2023-12-12T14:34:58.538131500Z"
    },
    "collapsed": false
   },
   "outputs": [
    {
     "name": "stdout",
     "output_type": "stream",
     "text": [
      "WARNING:tensorflow:From E:\\Projects\\MLOPS\\kidney-disease-classification-mlops\\venv\\lib\\site-packages\\keras\\src\\backend.py:1398: The name tf.executing_eagerly_outside_functions is deprecated. Please use tf.compat.v1.executing_eagerly_outside_functions instead.\n",
      "WARNING:tensorflow:From E:\\Projects\\MLOPS\\kidney-disease-classification-mlops\\venv\\lib\\site-packages\\keras\\src\\layers\\pooling\\max_pooling2d.py:161: The name tf.nn.max_pool is deprecated. Please use tf.nn.max_pool2d instead.\n"
     ]
    }
   ],
   "source": [
    "model = tf.keras.models.load_model(\"artifacts/training/model.h5\")"
   ]
  },
  {
   "cell_type": "code",
   "execution_count": 9,
   "id": "9d7d1e2a66b5c72",
   "metadata": {
    "ExecuteTime": {
     "end_time": "2023-12-12T14:35:04.643938600Z",
     "start_time": "2023-12-12T14:35:04.631699800Z"
    },
    "collapsed": false
   },
   "outputs": [],
   "source": [
    "from dataclasses import dataclass\n",
    "from pathlib import Path\n",
    "\n",
    "@dataclass(frozen=True)\n",
    "class EvaluationConfig:\n",
    "    path_of_model: Path\n",
    "    training_data: Path\n",
    "    all_params: dict\n",
    "    mlflow_uri: str\n",
    "    params_image_size: list\n",
    "    params_batch_size: int"
   ]
  },
  {
   "cell_type": "code",
   "execution_count": 10,
   "id": "735ea42b34018648",
   "metadata": {
    "ExecuteTime": {
     "end_time": "2023-12-12T14:35:05.280139400Z",
     "start_time": "2023-12-12T14:35:04.645949200Z"
    },
    "collapsed": false
   },
   "outputs": [],
   "source": [
    "from kidneyDiseaseClassifier.constants import *\n",
    "from kidneyDiseaseClassifier.utils.common import read_yaml,create_directories, save_json"
   ]
  },
  {
   "cell_type": "code",
   "execution_count": 11,
   "id": "218b42c5725738a",
   "metadata": {
    "ExecuteTime": {
     "end_time": "2023-12-12T14:35:05.297094800Z",
     "start_time": "2023-12-12T14:35:05.287097800Z"
    },
    "collapsed": false
   },
   "outputs": [],
   "source": [
    "class ConfigurationManager:\n",
    "    def __init__(self, model_name= \"VGG16\",  config_filepath= CONFIG_FILE_PATH, params_file_path=PARAMS_FILE_PATH):\n",
    "        self.model_name = model_name.upper()\n",
    "        self.config = read_yaml(config_filepath)\n",
    "        self.params = read_yaml(params_file_path)[self.model_name]       # loading params for the specific model\n",
    "        create_directories([self.config.artifacts_root])\n",
    "\n",
    "    def get_evaluation_config(self)->EvaluationConfig:\n",
    "\n",
    "        eval_config= EvaluationConfig(\n",
    "            path_of_model= \"artifacts/training/model.h5\",\n",
    "            training_data= \"artifacts/data_ingestion/kaggle/data/CT-KIDNEY-DATASET-Normal-Cyst-Tumor-Stone\",\n",
    "            mlflow_uri= \"https://dagshub.com/sadhiin/kidney-disease-classification-DL-MLOPS.mlflow\",\n",
    "            all_params= self.params,\n",
    "            params_image_size= self.params.IMAGE_SIZE,\n",
    "            params_batch_size= self.params.BATCH_SIZE\n",
    "        )\n",
    "\n",
    "        return eval_config"
   ]
  },
  {
   "cell_type": "code",
   "execution_count": 12,
   "id": "6dca67be85ef6859",
   "metadata": {
    "ExecuteTime": {
     "end_time": "2023-12-12T14:35:07.336506800Z",
     "start_time": "2023-12-12T14:35:05.300113500Z"
    },
    "collapsed": false
   },
   "outputs": [
    {
     "name": "stderr",
     "output_type": "stream",
     "text": [
      "E:\\Projects\\MLOPS\\kidney-disease-classification-mlops\\venv\\lib\\site-packages\\pydantic\\_internal\\_fields.py:149: UserWarning: Field \"model_server_url\" has conflict with protected namespace \"model_\".\n",
      "\n",
      "You may be able to resolve this warning by setting `model_config['protected_namespaces'] = ()`.\n",
      "  warnings.warn(\n",
      "E:\\Projects\\MLOPS\\kidney-disease-classification-mlops\\venv\\lib\\site-packages\\pydantic\\_internal\\_config.py:321: UserWarning: Valid config keys have changed in V2:\n",
      "* 'schema_extra' has been renamed to 'json_schema_extra'\n",
      "  warnings.warn(message, UserWarning)\n"
     ]
    }
   ],
   "source": [
    "import tensorflow as tf\n",
    "from pathlib import Path\n",
    "import mlflow\n",
    "import mlflow.keras\n",
    "from urllib.parse import urlparse"
   ]
  },
  {
   "cell_type": "code",
   "execution_count": 13,
   "id": "4cf9450e10368059",
   "metadata": {
    "ExecuteTime": {
     "end_time": "2023-12-12T14:35:07.349873900Z",
     "start_time": "2023-12-12T14:35:07.337505800Z"
    },
    "collapsed": false
   },
   "outputs": [],
   "source": [
    "class Evaluation:\n",
    "    def __init__(self, config: EvaluationConfig):\n",
    "        self.config = config\n",
    "\n",
    "    def _valid_generator(self):\n",
    "\n",
    "        datagenerator_kwargs = dict(\n",
    "            rescale = 1./255,\n",
    "            validation_split = 0.3\n",
    "        )\n",
    "\n",
    "        dataflow_kwargs = dict(\n",
    "            target_size=self.config.params_image_size[:-1],\n",
    "            batch_size=self.config.params_batch_size\n",
    "        )\n",
    "\n",
    "        valid_datagenerator = tf.keras.preprocessing.image.ImageDataGenerator(**datagenerator_kwargs)\n",
    "\n",
    "\n",
    "        self.valid_generator = valid_datagenerator.flow_from_directory(\n",
    "            directory= self.config.training_data,\n",
    "            subset='validation',\n",
    "            shuffle=False,\n",
    "            **dataflow_kwargs\n",
    "        )\n",
    "\n",
    "    @staticmethod\n",
    "    def load_model(path: Path) -> tf.keras.Model:\n",
    "        return tf.keras.models.load_model(path)\n",
    "\n",
    "    def save_score(self):\n",
    "        scores = {'loss': self.score[0], 'accuracy': self.score[1]}\n",
    "        save_json(path=Path('score.json'), data= scores)\n",
    "\n",
    "    def evaluation(self):\n",
    "        self.model = self.load_model(self.config.path_of_model)\n",
    "        self._valid_generator()\n",
    "        self.score = model.evaluate(self.valid_generator)\n",
    "        self.save_score()\n",
    "\n",
    "    def log_into_mlflow(self):\n",
    "        mlflow.set_registry_uri(self.config.mlflow_uri)\n",
    "        tracking_url_type_store = urlparse(mlflow.get_tracking_uri()).scheme\n",
    "\n",
    "        with mlflow.start_run():\n",
    "            print(self.config.all_params)\n",
    "            mlflow.log_params(self.config.all_params)\n",
    "            mlflow.log_metrics({'loss': self.score[0], 'accuracy':self.score[1]})\n",
    "\n",
    "            # model registry\n",
    "            if tracking_url_type_store != 'file':\n",
    "                # register the model\n",
    "                # There are other ways to use the model registry, which depends on the user case,\n",
    "                # please refer to the doc for more information:\n",
    "                # at https://mlflow.org/docs/latest/model-registry.html#api-workflow\n",
    "                mlflow.keras.log_model(self.model, 'model', registered_model_name='VGG16')\n",
    "            else:\n",
    "                mlflow.keras.log_model(self.model, \"model\")"
   ]
  },
  {
   "cell_type": "code",
   "execution_count": 14,
   "id": "63dd47de68971316",
   "metadata": {
    "ExecuteTime": {
     "end_time": "2023-12-12T14:42:33.036064500Z",
     "start_time": "2023-12-12T14:35:07.353211200Z"
    },
    "collapsed": false
   },
   "outputs": [
    {
     "name": "stdout",
     "output_type": "stream",
     "text": [
      "[2023-12-12 20:35:07,375]: INFO: common: yaml file: config\\config.yaml loaded successfully!\n",
      "[2023-12-12 20:35:07,409]: INFO: common: yaml file: params.yaml loaded successfully!\n",
      "[2023-12-12 20:35:07,420]: INFO: common: Created directory at : artifacts\n",
      "Found 3732 images belonging to 4 classes.\n",
      "WARNING:tensorflow:From E:\\Projects\\MLOPS\\kidney-disease-classification-mlops\\venv\\lib\\site-packages\\keras\\src\\utils\\tf_utils.py:492: The name tf.ragged.RaggedTensorValue is deprecated. Please use tf.compat.v1.ragged.RaggedTensorValue instead.\n",
      "\n",
      "[2023-12-12 20:35:12,277]: WARNING: module_wrapper: From E:\\Projects\\MLOPS\\kidney-disease-classification-mlops\\venv\\lib\\site-packages\\keras\\src\\utils\\tf_utils.py:492: The name tf.ragged.RaggedTensorValue is deprecated. Please use tf.compat.v1.ragged.RaggedTensorValue instead.\n",
      "234/234 [==============================] - 319s 1s/step - loss: 9.3505 - accuracy: 0.2980\n",
      "[2023-12-12 20:40:29,683]: INFO: common: Json file saved at: score.json\n",
      "{'AUGMENTATION': True, 'IMAGE_SIZE': [224, 224, 3], 'BATCH_SIZE': 16, 'INCLUDE_TOP': False, 'EPOCHS': 1, 'CLASSES': 4, 'WEIGHTS': 'imagenet', 'LEARNING_RATE': 0.01, 'DROPOUT_RATE': 0.3}\n"
     ]
    },
    {
     "name": "stderr",
     "output_type": "stream",
     "text": [
      "2023/12/12 20:40:32 WARNING mlflow.tensorflow: You are saving a TensorFlow Core model or Keras model without a signature. Inference with mlflow.pyfunc.spark_udf() will not work unless the model's pyfunc representation accepts pandas DataFrames as inference inputs.\n"
     ]
    },
    {
     "name": "stdout",
     "output_type": "stream",
     "text": [
      "INFO:tensorflow:Assets written to: C:\\Users\\Sadhin\\AppData\\Local\\Temp\\tmpswip6844\\model\\data\\model\\assets\n",
      "[2023-12-12 20:40:36,395]: INFO: builder_impl: Assets written to: C:\\Users\\Sadhin\\AppData\\Local\\Temp\\tmpswip6844\\model\\data\\model\\assets\n"
     ]
    },
    {
     "name": "stderr",
     "output_type": "stream",
     "text": [
      "E:\\Projects\\MLOPS\\kidney-disease-classification-mlops\\venv\\lib\\site-packages\\_distutils_hack\\__init__.py:33: UserWarning: Setuptools is replacing distutils.\n",
      "  warnings.warn(\"Setuptools is replacing distutils.\")\n",
      "Successfully registered model 'VGG16'.\n",
      "2023/12/12 20:42:32 INFO mlflow.tracking._model_registry.client: Waiting up to 300 seconds for model version to finish creation. Model name: VGG16, version 1\n",
      "Created version '1' of model 'VGG16'.\n"
     ]
    }
   ],
   "source": [
    "try:\n",
    "    config = ConfigurationManager()\n",
    "    eval_config = config.get_evaluation_config()\n",
    "    evaluation = Evaluation(config=eval_config)\n",
    "\n",
    "    evaluation.evaluation()\n",
    "    evaluation.log_into_mlflow()\n",
    "except Exception as e:\n",
    "    raise e"
   ]
  },
  {
   "cell_type": "code",
   "execution_count": 14,
   "id": "273822b5bd1bab54",
   "metadata": {
    "ExecuteTime": {
     "end_time": "2023-12-12T14:42:33.123600800Z",
     "start_time": "2023-12-12T14:42:33.052357100Z"
    },
    "collapsed": false
   },
   "outputs": [],
   "source": []
  },
  {
   "cell_type": "code",
   "execution_count": null,
   "id": "97fcea7a103f6cf4",
   "metadata": {
    "collapsed": false
   },
   "outputs": [],
   "source": []
  }
 ],
 "metadata": {
  "kernelspec": {
   "display_name": "Python 3",
   "language": "python",
   "name": "python3"
  },
  "language_info": {
   "codemirror_mode": {
    "name": "ipython",
    "version": 2
   },
   "file_extension": ".py",
   "mimetype": "text/x-python",
   "name": "python",
   "nbconvert_exporter": "python",
   "pygments_lexer": "ipython2",
   "version": "2.7.6"
  }
 },
 "nbformat": 4,
 "nbformat_minor": 5
}
